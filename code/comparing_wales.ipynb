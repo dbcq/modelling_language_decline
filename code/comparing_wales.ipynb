{
 "cells": [
  {
   "cell_type": "code",
   "execution_count": null,
   "metadata": {},
   "outputs": [],
   "source": [
    "import os\n",
    "from matplotlib import pyplot as plt\n",
    "import numpy as np\n",
    "from PIL import Image"
   ]
  },
  {
   "cell_type": "code",
   "execution_count": null,
   "metadata": {},
   "outputs": [],
   "source": [
    "## Calculate summed MSEs for all timesteps for selection of alphas\n",
    "\n",
    "# Get current usage\n",
    "usage = Image.open('../assets/wales_current_welsh_usage.tif')\n",
    "usage = np.array(usage) * 0.01\n",
    "usage = np.flip(usage, axis=0)\n",
    "\n",
    "usage_mask = Image.open(\"../assets/wales_current_usage_mask.tif\")\n",
    "usage_mask = np.array(usage_mask).astype(bool)\n",
    "usage_mask = np.flip(usage_mask, axis=0)\n",
    "usage[~usage_mask] = np.nan\n",
    "\n",
    "freq_mask = Image.open(\"../assets/attempt2_wales_country_mask.tif\")\n",
    "freq_mask = np.array(freq_mask).astype(bool)\n",
    "freq_mask = np.flip(freq_mask, axis=0)\n",
    "mask_shape = freq_mask.shape\n",
    "\n",
    "total_diffs = []\n",
    "ax_num = 0\n",
    "all_nums = []\n",
    "alphas = [1.2, 1.7, 2.3, 2.5]\n",
    "\n",
    "print(\"started\")\n",
    "for alpha in alphas:\n",
    "    \n",
    "    # Load data and get timestamps from filenames\n",
    "    names = os.listdir(f'../simulation_data/walesICbook5Alpha{alpha}Beta1.1SigmavarFactor2Deltat0.0004Tmax500.0_0')\n",
    "    nums = [name.split('_')[-1].replace('.npy','') for name in names]\n",
    "    nums = np.array(nums).astype(int)\n",
    "    nums = np.array(sorted(nums))[:len(nums)//2]\n",
    "    ks=nums\n",
    "    all_nums.append(nums)\n",
    "    \n",
    "    # Calculate summed MSE\n",
    "    alpha_diffs = []\n",
    "    for i, k in enumerate(ks):\n",
    "        print(f'{i} out of {len(nums)} completed', end = '\\r')\n",
    "\n",
    "        freq = np.load(f\"../simulation_data/walesICbook5Alpha{alpha}Beta1.1SigmavarFactor2Deltat0.0004Tmax500.0_0/walesICbook5Alpha{alpha}Beta1.1SigmavarFactor2Deltat0.0004Tmax500.0MEMORY_0_{k}.npy\")\n",
    "        freq = freq[:mask_shape[0], :mask_shape[1]]\n",
    "        freq[~freq_mask] = np.nan\n",
    "\n",
    "        usage = usage/(np.nanmax(usage))\n",
    "        diff = (usage - freq)**2\n",
    "        total_diff = np.nansum(diff)\n",
    "        alpha_diffs.append(total_diff)\n",
    "\n",
    "    total_diffs.append(alpha_diffs)"
   ]
  },
  {
   "cell_type": "code",
   "execution_count": null,
   "metadata": {},
   "outputs": [],
   "source": [
    "# Plot diffs for the alphas used\n",
    "\n",
    "plt.rcParams.update({\n",
    "    \"pgf.texsystem\": \"pdflatex\",\n",
    "    'font.family': 'serif',\n",
    "    'text.usetex': True,\n",
    "    'pgf.rcfonts': False,\n",
    "})\n",
    "\n",
    "plt.figure(figsize=(4,4))\n",
    "\n",
    "for i, alpha in enumerate(alphas):\n",
    "    plt.plot(all_nums[i], total_diffs[i], marker=\".\", label=alphas[i])\n",
    "\n",
    "plt.ylabel(r\"$(f_\\textrm{actual} - f_\\textrm{pred})^2$\")\n",
    "plt.xlim(0,300000)\n",
    "plt.legend()\n",
    "plt.show()"
   ]
  },
  {
   "cell_type": "code",
   "execution_count": null,
   "metadata": {},
   "outputs": [],
   "source": [
    "# Get index of min MSE^2 (alpha=2.5 is non-physical)\n",
    "\n",
    "min_ind = np.argmin(total_diffs[2])\n",
    "min_ind_timestamp = all_nums[2][min_ind]\n",
    "min_ind_timestamp"
   ]
  },
  {
   "cell_type": "code",
   "execution_count": null,
   "metadata": {},
   "outputs": [],
   "source": [
    "usage = Image.open('wales_current_welsh_usage.tif')\n",
    "usage = np.array(usage) * 0.01\n",
    "usage = np.flip(usage, axis=0)\n",
    "\n",
    "freq_mask = Image.open(\"attempt2_wales_country_mask.tif\")\n",
    "freq_mask = np.array(freq_mask).astype(bool)\n",
    "freq_mask = np.flip(freq_mask, axis=0)\n",
    "mask_shape = freq_mask.shape\n",
    "\n",
    "k=15000\n",
    "freq = np.load(f\"../simulation_data/walesICbook5Alpha2.3Beta1.1SigmavarFactor2Deltat0.0004Tmax500.0_0/walesICbook5Alpha2.3Beta1.1SigmavarFactor2Deltat0.0004Tmax500.0MEMORY_0_{k}.npy\")\n",
    "    \n",
    "freq = freq[:mask_shape[0], :mask_shape[1]]\n",
    "freq[~freq_mask] = np.nan\n",
    "\n",
    "diff = usage - freq\n",
    "total_diff = np.nansum(diff)\n",
    "\n",
    "# Plot 'residuals'\n",
    "fig, ax = plt.subplots()\n",
    "plt.imshow(diff, origin=\"lower\", cmap='bwr', vmin=-1.0, vmax=1.0)\n",
    "cb = plt.colorbar()\n",
    "cb.set_label(\"Actual $-$ predicted use\", rotation=270, labelpad=15)\n",
    "ax.axis(\"off\")\n",
    "s = fig.get_size_inches()\n",
    "fig.set_size_inches(float(s[0])*0.6, float(s[1])*0.6)\n",
    "plt.savefig(\"wales_residuals_2.3_15000.pdf\", bbox_inches=\"tight\")\n",
    "plt.show()\n"
   ]
  }
 ],
 "metadata": {
  "kernelspec": {
   "display_name": "main",
   "language": "python",
   "name": "python3"
  },
  "language_info": {
   "codemirror_mode": {
    "name": "ipython",
    "version": 3
   },
   "file_extension": ".py",
   "mimetype": "text/x-python",
   "name": "python",
   "nbconvert_exporter": "python",
   "pygments_lexer": "ipython3",
   "version": "3.9.6"
  }
 },
 "nbformat": 4,
 "nbformat_minor": 2
}
